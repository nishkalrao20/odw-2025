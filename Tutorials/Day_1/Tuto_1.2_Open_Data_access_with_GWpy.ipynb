{
 "cells": [
  {
   "cell_type": "markdown",
   "metadata": {
    "Collapsed": "false",
    "colab_type": "text",
    "editable": true,
    "id": "tcXQnfN0vvWt",
    "slideshow": {
     "slide_type": ""
    },
    "tags": []
   },
   "source": [
    "<span style=\"float: left;padding: 1.3em\">![logo](../logo.png)</span>\n",
    "\n",
    "# Gravitational Wave Open Data Workshop\n",
    "\n",
    "## Tutorial 1.2: Introduction to GWpy\n",
    "\n",
    "This tutorial will briefly describe GWpy, a python package for gravitational astrophysics, and walk-through how you can use this to speed up access to, and processing of, GWOSC data.\n",
    "\n",
    "View this tutorial on [Google Colaboratory](https://colab.research.google.com/github/gw-odw/odw/blob/main/Tutorials/Day_1/Tuto_1.2_Open_Data_access_with_GWpy.ipynb) or launch [mybinder](https://mybinder.org/v2/gh/gw-odw/odw/HEAD).\n"
   ]
  },
  {
   "cell_type": "code",
   "execution_count": 1,
   "metadata": {},
   "outputs": [],
   "source": [
    "# Those 2 lines are just to avoid some harmless warnings when importing packages\n",
    "import warnings\n",
    "warnings.filterwarnings(\"ignore\", \"Wswiglal-redir-stdio\")"
   ]
  },
  {
   "cell_type": "markdown",
   "metadata": {
    "Collapsed": "false",
    "colab_type": "text",
    "id": "AXkLJmTgvvWw"
   },
   "source": [
    "## Installation (execute only if running on a cloud platform, like Google Colab, or if you haven't done the installation already!)"
   ]
  },
  {
   "cell_type": "markdown",
   "metadata": {
    "Collapsed": "false",
    "colab_type": "text",
    "id": "KSHN5q5MvvW3"
   },
   "source": [
    "> ⚠️ **Warning**: restart the runtime after running the cell below.\n",
    ">\n",
    "> To do so, click \"Runtime\" in the menu and choose \"Restart and run all\"."
   ]
  },
  {
   "cell_type": "code",
   "execution_count": 2,
   "metadata": {
    "Collapsed": "false",
    "colab": {
     "base_uri": "https://localhost:8080/",
     "height": 1000
    },
    "colab_type": "code",
    "id": "RDmzrP5yvvWx",
    "outputId": "6b87c869-2b62-4399-a92b-216365916d5a"
   },
   "outputs": [],
   "source": [
    "# -- Uncomment following line if running in Google Colab\n",
    "#! pip install -q 'gwpy==3.0.12'"
   ]
  },
  {
   "cell_type": "markdown",
   "metadata": {
    "Collapsed": "false",
    "colab_type": "text",
    "id": "QnyfjBa2vvW4"
   },
   "source": [
    "## Initialization"
   ]
  },
  {
   "cell_type": "code",
   "execution_count": 3,
   "metadata": {},
   "outputs": [
    {
     "name": "stdout",
     "output_type": "stream",
     "text": [
      "3.0.12\n"
     ]
    }
   ],
   "source": [
    "# The first import of gwpy can take some time (especially on cloud platforms).\n",
    "# This is mainly due to matplotlib taking some time to import (this is normal).\n",
    "import gwpy\n",
    "print(gwpy.__version__)"
   ]
  },
  {
   "cell_type": "markdown",
   "metadata": {
    "Collapsed": "false",
    "colab_type": "text",
    "id": "kQ2BP99lvvW-"
   },
   "source": [
    "## A note on object-oriented programming\n",
    "\n",
    "Before we dive too deeply, it's worth a quick aside on object-oriented programming (OOP).\n",
    "[GWpy](https://gwpy.github.io/docs/stable/index.html) is heavily object-oriented, meaning almost all of the code you run using GWpy is based around an object of some type, e.g. `TimeSeries`.\n",
    "Most of the methods (functions) we will use are attached to an object, rather than standing alone, meaning you should have a pretty good idea of what sort of data you are dealing with (without having to read the documentation!).\n",
    "\n",
    "For a quick overview of object-oriented programming in Python, see [this blog post by Jeff Knupp](https://medium.com/hackernoon/improve-your-python-python-classes-and-object-oriented-programming-d09ff461168d)."
   ]
  },
  {
   "cell_type": "markdown",
   "metadata": {
    "Collapsed": "false",
    "colab_type": "text",
    "id": "nDrXzJsNvvXA"
   },
   "source": [
    "## Handling data in the time domain"
   ]
  },
  {
   "cell_type": "markdown",
   "metadata": {
    "Collapsed": "false",
    "colab_type": "text",
    "id": "rphj1bJKvvXB"
   },
   "source": [
    "#### Finding open data\n",
    "\n",
    "We have seen already that the `gwosc` module can be used to query for what data are available on [GWOSC](https://gwosc.org/data/).\n",
    "The next thing to do is to actually read some open data. Let's try to get some for GW190412, the first detection of a gravitational-wave signal from a significantly unequal-mass BBH (binary black hole system).\n",
    "\n",
    "We can use the [TimeSeries.fetch_open_data](https://gwpy.github.io/docs/stable/api/gwpy.timeseries.TimeSeries/#gwpy.timeseries.TimeSeries.fetch_open_data) method to download data directly from https://gwosc.org, but we need to know the GPS times.\n",
    "We can query for the GPS time of an event as follows:"
   ]
  },
  {
   "cell_type": "code",
   "execution_count": 4,
   "metadata": {
    "Collapsed": "false",
    "colab": {
     "base_uri": "https://localhost:8080/",
     "height": 35
    },
    "colab_type": "code",
    "id": "lPUz-bGEvvXD",
    "outputId": "e35356cb-fe05-4011-a878-e83ea6339e41"
   },
   "outputs": [
    {
     "name": "stdout",
     "output_type": "stream",
     "text": [
      "1239082262.1\n"
     ]
    }
   ],
   "source": [
    "from gwosc.datasets import event_gps\n",
    "gps = event_gps('GW190412')\n",
    "print(gps)"
   ]
  },
  {
   "cell_type": "markdown",
   "metadata": {
    "Collapsed": "false",
    "colab_type": "text",
    "id": "65mRiIVbvvXH"
   },
   "source": [
    "Now we can build a `[start, end)` GPS segment to 10 seconds around this time, using integers for convenience:"
   ]
  },
  {
   "cell_type": "code",
   "execution_count": 5,
   "metadata": {
    "Collapsed": "false",
    "colab": {
     "base_uri": "https://localhost:8080/",
     "height": 35
    },
    "colab_type": "code",
    "id": "jNO-gRsivvXJ",
    "outputId": "36f0a93b-71ad-4938-c784-03dcca010acb"
   },
   "outputs": [
    {
     "name": "stdout",
     "output_type": "stream",
     "text": [
      "(1239082257, 1239082267)\n"
     ]
    }
   ],
   "source": [
    "segment = (int(gps)-5, int(gps)+5)\n",
    "print(segment)"
   ]
  },
  {
   "cell_type": "markdown",
   "metadata": {
    "Collapsed": "false",
    "colab_type": "text",
    "id": "erm3jptAvvXO"
   },
   "source": [
    "and can now query for the full data.\n",
    "For this example we choose to retrieve data for the LIGO-Livingston interferometer, using the identifier `'L1'`.\n",
    "We could have chosen any of\n",
    "\n",
    "- `'G1'` - GEO600\n",
    "- `'H1'` - LIGO-Hanford\n",
    "- `'L1'` - LIGO-Livingston\n",
    "- `'V1'` - (Advanced) Virgo\n",
    "- `'K1'` - KAGRA\n"
   ]
  },
  {
   "cell_type": "code",
   "execution_count": 6,
   "metadata": {
    "Collapsed": "false",
    "colab": {
     "base_uri": "https://localhost:8080/",
     "height": 191
    },
    "colab_type": "code",
    "id": "KNyXDc6GvvXP",
    "outputId": "4212d6fd-ddad-4026-bb46-804bb12dc8ef"
   },
   "outputs": [
    {
     "name": "stdout",
     "output_type": "stream",
     "text": [
      "Fetched 1 URLs from gwosc.org for [1239082257 .. 1239082267))\n",
      "Reading data... [Done]\n",
      "TimeSeries([-8.42597565e-19, -8.52437103e-19, -8.60738804e-19,\n",
      "            ...,  1.38850270e-19,  1.37760541e-19,\n",
      "             1.38094202e-19]\n",
      "           unit: dimensionless,\n",
      "           t0: 1239082257.0 s,\n",
      "           dt: 0.000244140625 s,\n",
      "           name: Strain,\n",
      "           channel: None)\n"
     ]
    }
   ],
   "source": [
    "from gwpy.timeseries import TimeSeries\n",
    "ldata = TimeSeries.fetch_open_data('L1', *segment, verbose=True)\n",
    "print(ldata)"
   ]
  },
  {
   "cell_type": "markdown",
   "metadata": {
    "Collapsed": "false",
    "colab_type": "text",
    "id": "HaAG221avvXV"
   },
   "source": [
    "##### The `verbose=True` flag lets us see that GWpy has discovered one file that provides the data for the given interval, downloaded it, and loaded the data.\n",
    "The files are not stored permanently, so next time you do the same call, it will be downloaded again, however, if you know you might repeat the same call many times, you can use `cache=True` to store the file on your computer.\n",
    "\n",
    "Notes: \n",
    "\n",
    "* To control the dataset from which your data come from you can use the 'dataset' keyword. It is recommended to use data from a run if they are available, because they contain the most updated version of the calibration. To check which was the run at the time you want to query, it is enough to use the find_datasets method of the package gwosc discussed in the previous tutorial, specifying (`type='run',segment=segment`). For example, for the segment we are using in this tutorial, the two available datasets are [`'O3a_16KHZ_R1'`, `'O3a_4KHZ_R1'`]. For the sampling at 4 kHz, the complete command to get data from this dataset is then: `TimeSeries.fetch_open_data('L1', *segment, verbose=True, dataset='O3a_4KHZ_R1')`.  \n",
    "\n",
    "* To read data from a local file instead of from the GWOSC server, we can use  [`TimeSeries.read`](https://gwpy.github.io/docs/stable/api/gwpy.timeseries.TimeSeries/#gwpy.timeseries.TimeSeries.read) method.\n",
    "\n",
    "We have now downloaded real LIGO data for GW190412! These are the actual data used in the analysis of this binary black hole merger."
   ]
  },
  {
   "cell_type": "markdown",
   "metadata": {
    "Collapsed": "false",
    "colab_type": "text",
    "id": "20R_MEXlvvXW"
   },
   "source": [
    "To sanity check things, we can easily make a plot, using the [`plot()`](https://gwpy.github.io/docs/stable/plot/) method of the `data` `TimeSeries`."
   ]
  },
  {
   "cell_type": "markdown",
   "metadata": {
    "Collapsed": "false",
    "colab_type": "text",
    "id": "qpYocnKovvXY"
   },
   "source": [
    "<div class=\"alert alert-info\">\n",
    "Since this is the first time we are plotting something in this notebook, we need to configure `matplotlib` (the plotting library) to work within the notebook properly:\n",
    "</div>"
   ]
  },
  {
   "cell_type": "markdown",
   "metadata": {
    "Collapsed": "false",
    "colab_type": "text",
    "id": "20R_MEXlvvXW"
   },
   "source": [
    "Matplotlib documentation can be found [here](https://matplotlib.org/stable/users/index.html)."
   ]
  },
  {
   "cell_type": "code",
   "execution_count": null,
   "metadata": {
    "Collapsed": "false",
    "colab": {
     "base_uri": "https://localhost:8080/",
     "height": 298
    },
    "colab_type": "code",
    "id": "BALbycwJvvXa",
    "outputId": "a3bca312-4806-4ca9-908c-3ee96b2d786f"
   },
   "outputs": [],
   "source": [
    "plot = ldata.plot()"
   ]
  },
  {
   "cell_type": "markdown",
   "metadata": {
    "Collapsed": "false",
    "colab_type": "text",
    "id": "1irX8-UnvvXd"
   },
   "source": [
    "Note: There are alternative ways to access GWOSC data. The [PyCBC](https:/pycbc.org) package has the `pycbc.frame.query_and_read_frame` and `pycbc.frame.read_frame` methods that we will learn in tutorials 2.1 to 2.3."
   ]
  },
  {
   "cell_type": "markdown",
   "metadata": {
    "Collapsed": "false",
    "colab_type": "text",
    "id": "TKRQ5EIivvXg"
   },
   "source": [
    "## Handling data in the frequency domain using the Fourier transform\n",
    "\n",
    "The [Fourier transform](https://en.wikipedia.org/wiki/Fourier_transform) is a widely-used mathematical tool to expose the frequency-domain content of a time-domain signal, meaning we can see which frequencies contain lots of power, and which have less.\n",
    "\n",
    "We can calculate the Fourier transform of our `TimeSeries` using the [fft()](https://gwpy.github.io/docs/stable/api/gwpy.timeseries.TimeSeries/?highlight=fourier#gwpy.timeseries.TimeSeries.fft) method:"
   ]
  },
  {
   "cell_type": "code",
   "execution_count": null,
   "metadata": {
    "Collapsed": "false",
    "colab": {
     "base_uri": "https://localhost:8080/",
     "height": 225
    },
    "colab_type": "code",
    "id": "TUZ5NAA4vvXh",
    "outputId": "53e95499-138a-4751-ee09-7ef1201406ba"
   },
   "outputs": [],
   "source": [
    "fft = ldata.fft()\n",
    "print(fft)"
   ]
  },
  {
   "cell_type": "markdown",
   "metadata": {
    "Collapsed": "false",
    "colab_type": "text",
    "id": "O-Y_RfuJvvXn"
   },
   "source": [
    "The result is a [`FrequencySeries`](https://gwpy.github.io/docs/stable/api/gwpy.frequencyseries.FrequencySeries/#gwpy.frequencyseries.FrequencySeries), with complex amplitude, representing the amplitude and phase of each frequency in our data.\n",
    "We can use `abs()` to extract the amplitude and plot it:"
   ]
  },
  {
   "cell_type": "code",
   "execution_count": null,
   "metadata": {
    "Collapsed": "false",
    "colab": {
     "base_uri": "https://localhost:8080/",
     "height": 293
    },
    "colab_type": "code",
    "id": "3nkJpEWsvvXo",
    "outputId": "2b535a1f-3d96-46e5-99a4-9d40b67f1dd2"
   },
   "outputs": [],
   "source": [
    "plot = fft.abs().plot(xscale=\"log\", yscale=\"log\")\n",
    "plot.show(warn=False)"
   ]
  },
  {
   "cell_type": "markdown",
   "metadata": {
    "Collapsed": "false",
    "colab_type": "text",
    "id": "Jagnf6gXvvXr"
   },
   "source": [
    "This doesn't look correct at all!\n",
    "The problem is that the FFT works under the assumption that our data are periodic, which means that the edges of our data look like discontinuities when transformed.\n",
    "We need to apply a window function to our time-domain data before transforming, which we can do using the [`scipy.signal`](https://docs.scipy.org/doc/scipy/reference/signal.html) module:"
   ]
  },
  {
   "cell_type": "code",
   "execution_count": null,
   "metadata": {
    "Collapsed": "false",
    "colab": {},
    "colab_type": "code",
    "id": "QStxzaxivvXs"
   },
   "outputs": [],
   "source": [
    "from scipy.signal import get_window\n",
    "window = get_window('hann', ldata.size)\n",
    "lwin = ldata * window"
   ]
  },
  {
   "cell_type": "markdown",
   "metadata": {
    "Collapsed": "false",
    "colab_type": "text",
    "id": "-CE93sCevvXw"
   },
   "source": [
    "Let's try our transform again and see what we get"
   ]
  },
  {
   "cell_type": "code",
   "execution_count": null,
   "metadata": {
    "Collapsed": "false",
    "colab": {
     "base_uri": "https://localhost:8080/",
     "height": 291
    },
    "colab_type": "code",
    "id": "iIpCU4F_vvXx",
    "outputId": "6ebaa423-7433-410c-f2c8-4488c125c5c6"
   },
   "outputs": [],
   "source": [
    "fftamp = lwin.fft().abs()\n",
    "plot = fftamp.plot(xscale=\"log\", yscale=\"log\")\n",
    "plot.show(warn=False)"
   ]
  },
  {
   "cell_type": "markdown",
   "metadata": {
    "Collapsed": "false",
    "colab_type": "text",
    "id": "LN-j1qNovvXz"
   },
   "source": [
    "This looks a little more like what we expect for the amplitude spectral density of a gravitational-wave detector."
   ]
  },
  {
   "cell_type": "markdown",
   "metadata": {
    "Collapsed": "false",
    "colab_type": "text",
    "id": "MkznZBKhvvX0"
   },
   "source": [
    "## Estimating the power spectral density\n",
    "\n",
    "The dense fluctuations in the above plot at frequencies larger than 10 Hz seem completely random. This is indeed the intrinsic noise in the estimate of the spectral content of the signal from a single FFT. We can reduce these fluctuations by averaging many estimates of the signal FFT. But, being the FFT components complex quantities, what we really want to average are their squared moduli. This quantity is named [Power Spectral Density (PSD)](https://en.wikipedia.org/wiki/Spectral_density),  and what we have just described is [Welch's estimation method](https://en.wikipedia.org/wiki/Welch%27s_method).\n",
    "It is also convenient to express the result not as a power but as an amplitude, taking the square root of the above expression. The resulting quantity takes the name Amplitude Spectral Density (ASD) of the signal.\n",
    "\n",
    "GWpy library provides the [`asd()`](https://gwpy.github.io/docs/stable/api/gwpy.timeseries.TimeSeries/?highlight=asd#gwpy.timeseries.TimeSeries.asd) method of `TimeSeries`, which uses the above technique to combine FFTs estimated on overlapping, windowed chunks of data.\n",
    "\n",
    "Alternatively, one could have combined the various FFT estimates calculating their median, which is a more robust statistic than the mean implemented in Welch's method with respect to spurious fluctuations of the signal level.\n",
    "\n",
    "The `asd()` in GWpy accepts both `'median'` or `'welch'` as possible methods to estmate the ASD of a signal.\n",
    "\n",
    "Explore the difference in the ASD estimate result by changing the values of the parameters `fftlength`, the duration in seconds of the data used to estimate each FFT, and the `method` used to average them. Take a look also at the [other optional parameters](https://gwpy.github.io/docs/stable/api/gwpy.timeseries.TimeSeries/#gwpy.timeseries.TimeSeries.asd-parameters)."
   ]
  },
  {
   "cell_type": "code",
   "execution_count": null,
   "metadata": {
    "Collapsed": "false",
    "colab": {
     "base_uri": "https://localhost:8080/",
     "height": 291
    },
    "colab_type": "code",
    "id": "n8Vs3we5vvX1",
    "outputId": "699ccf14-ace2-4ab0-af27-d5f16dbccf36"
   },
   "outputs": [],
   "source": [
    "asd = ldata.asd(fftlength=2, method=\"median\")\n",
    "plot = asd.plot()\n",
    "plot.show(warn=False)"
   ]
  },
  {
   "cell_type": "markdown",
   "metadata": {},
   "source": [
    "Let's customize this figure by zooming in the frequency range of interest, that is, above the seismic noise shoulder at 10 Hz and below the cut-off at the Nyquist frequency, and resizing the y-axis accordingly."
   ]
  },
  {
   "cell_type": "code",
   "execution_count": null,
   "metadata": {
    "Collapsed": "false",
    "colab": {
     "base_uri": "https://localhost:8080/",
     "height": 297
    },
    "colab_type": "code",
    "id": "oNCOIFixvvX4",
    "outputId": "054775f7-5bba-47be-c7da-433e50ef623c"
   },
   "outputs": [],
   "source": [
    "ax = plot.gca()\n",
    "ax.set(xlim=(10, 1400), ylim=(1e-24, 1e-20))\n",
    "plot"
   ]
  },
  {
   "cell_type": "markdown",
   "metadata": {
    "Collapsed": "false",
    "colab_type": "text",
    "id": "OF0k2n-nvvX7"
   },
   "source": [
    "The ASD is a standard tool used to study the frequency-domain sensitivity of a gravitational-wave detector.\n",
    "For the LIGO-Livingston data we loaded, we can see large spikes at certain frequencies, including\n",
    "\n",
    "- ~300 Hz\n",
    "- ~500 Hz\n",
    "- ~1000 Hz\n",
    "\n",
    "The [O3 spectral lines](https://gwosc.org/O3/o3aspeclines/) page on GWOSC describes a number of these spectral features for O3, with some of them being forced upon us, and some being deliberately introduced to help with interferometer control.\n",
    "\n",
    "Loading more data allows for more FFTs to be averaged during the ASD estimation, meaning random variations get averaged out, and we can see more detail:"
   ]
  },
  {
   "cell_type": "code",
   "execution_count": null,
   "metadata": {
    "Collapsed": "false",
    "colab": {
     "base_uri": "https://localhost:8080/",
     "height": 297
    },
    "colab_type": "code",
    "id": "wHyyXa4DvvX7",
    "outputId": "55e90b7f-7c8f-4171-b0b1-adb177d3c501"
   },
   "outputs": [],
   "source": [
    "ldata2 = TimeSeries.fetch_open_data('L1', int(gps)-512, int(gps)+512, cache=True)\n",
    "lasd2 = ldata2.asd(fftlength=4, method=\"median\")\n",
    "plot = lasd2.plot()\n",
    "ax = plot.gca()\n",
    "ax.set_xlim(10, 1400)\n",
    "ax.set_ylim(1e-24, 1e-20)\n",
    "plot.show(warn=False)"
   ]
  },
  {
   "cell_type": "markdown",
   "metadata": {
    "Collapsed": "false",
    "colab_type": "text",
    "id": "XehA6HMUvvX-"
   },
   "source": [
    "Now we can see some more features, including a small bump at about 60 Hz, the frequency of the electric mains in the US.\n",
    "\n",
    "For comparison, we can load the LIGO-Hanford and Virgo data and plot them as well:"
   ]
  },
  {
   "cell_type": "code",
   "execution_count": null,
   "metadata": {
    "Collapsed": "false",
    "colab": {
     "base_uri": "https://localhost:8080/",
     "height": 297
    },
    "colab_type": "code",
    "id": "wyZdgIAfvvX_",
    "outputId": "7c697281-38d9-409c-b2c1-cb19172a8517",
    "scrolled": true,
    "tags": []
   },
   "outputs": [],
   "source": [
    "# get Hanford data\n",
    "hdata2 = TimeSeries.fetch_open_data('H1', int(gps)-512, int(gps)+512, cache=True)\n",
    "hasd2 = hdata2.asd(fftlength=4, method=\"median\")\n",
    "\n",
    "# get Virgo data\n",
    "vdata2 = TimeSeries.fetch_open_data('V1', int(gps)-512, int(gps)+512, cache=True)\n",
    "vasd2 = vdata2.asd(fftlength=4, method=\"median\")\n",
    "\n",
    "# and plot using standard colours\n",
    "ax.plot(hasd2, label='LIGO-Hanford', color='gwpy:ligo-hanford')\n",
    "ax.plot(vasd2, label='Virgo', color='gwpy:virgo')\n",
    "\n",
    "# update the Livingston line to use standard colour, and have a label\n",
    "lline = ax.lines[0]\n",
    "lline.set_color('gwpy:ligo-livingston')  # change colour of Livingston data\n",
    "lline.set_label('LIGO-Livingston')\n",
    "\n",
    "ax.set_ylabel(r'Strain noise [$1/\\sqrt{\\mathrm{Hz}}$]')\n",
    "ax.legend()\n",
    "plot"
   ]
  },
  {
   "cell_type": "markdown",
   "metadata": {
    "Collapsed": "false",
    "colab_type": "text",
    "id": "vQ5Yr15FvvYB"
   },
   "source": [
    "Now we can see clearly the relative sensitivity of each detectors of LIGO and Virgo, the common features between those, like the general trend at low and high frequency, and those unique to each observatory."
   ]
  },
  {
   "cell_type": "markdown",
   "metadata": {
    "Collapsed": "false",
    "colab_type": "text",
    "id": "QnyfjBa2vvW4"
   },
   "source": [
    "# Challenges:"
   ]
  },
  {
   "cell_type": "markdown",
   "metadata": {
    "Collapsed": "false",
    "colab_type": "text",
    "id": "9s63fjSWvvXe"
   },
   "source": [
    "## Quiz Question 1:\n",
    "\n",
    "Looking at the LIGO-Livingston data in the time domain, the peak amplitude of the gravitational-wave signal of GW190412  occurs at the center of the figure, that is, at approximately 5 seconds from the start of the segment. This peak is undetectable above the background noise by the eye. Plot the data for the LIGO-Hanford detector around GW190412. Looking at your new LIGO-Handford plot, can your eye identify a signal peak? What about Virgo data?"
   ]
  },
  {
   "cell_type": "code",
   "execution_count": null,
   "metadata": {
    "Collapsed": "false"
   },
   "outputs": [],
   "source": []
  },
  {
   "cell_type": "markdown",
   "metadata": {
    "Collapsed": "false"
   },
   "source": [
    "## Quiz Question 2 :\n",
    "\n",
    "Make an ASD around the time of an O1 event, GW150914 for L1 detector.  Compare this with the ASDs around GW190412 for L1 detector.  Which data have lower noise - and so are more sensitive - around 100 Hz?\n"
   ]
  },
  {
   "cell_type": "code",
   "execution_count": null,
   "metadata": {
    "Collapsed": "false"
   },
   "outputs": [],
   "source": []
  }
 ],
 "metadata": {
  "colab": {
   "name": "Tuto 1.2 Open Data access with GWpy.ipynb",
   "provenance": []
  },
  "kernelspec": {
   "display_name": "gw_analysis",
   "language": "python",
   "name": "python3"
  },
  "language_info": {
   "codemirror_mode": {
    "name": "ipython",
    "version": 3
   },
   "file_extension": ".py",
   "mimetype": "text/x-python",
   "name": "python",
   "nbconvert_exporter": "python",
   "pygments_lexer": "ipython3",
   "version": "3.12.2"
  }
 },
 "nbformat": 4,
 "nbformat_minor": 4
}
